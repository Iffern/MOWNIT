{
 "cells": [
  {
   "cell_type": "markdown",
   "metadata": {},
   "source": [
    "## Arytmetyka komputera\n",
    "###### Anna Zając"
   ]
  },
  {
   "cell_type": "markdown",
   "metadata": {},
   "source": [
    "\n",
    "**Zadanie 1** Porównać w języku Julia reprezentację bitową liczby 1/3 dla Float16, Float32, Float64 oraz liczby, która jest inicjalizowana jako Float16, a potem rzutowana na Float64."
   ]
  },
  {
   "cell_type": "code",
   "execution_count": 1,
   "metadata": {},
   "outputs": [
    {
     "data": {
      "text/plain": [
       "\"0011010101010101\""
      ]
     },
     "execution_count": 1,
     "metadata": {},
     "output_type": "execute_result"
    }
   ],
   "source": [
    "bitstring(Float16(1/3))"
   ]
  },
  {
   "cell_type": "code",
   "execution_count": 2,
   "metadata": {},
   "outputs": [
    {
     "data": {
      "text/plain": [
       "\"00111110101010101010101010101011\""
      ]
     },
     "execution_count": 2,
     "metadata": {},
     "output_type": "execute_result"
    }
   ],
   "source": [
    "bitstring(Float32(1/3))"
   ]
  },
  {
   "cell_type": "code",
   "execution_count": 39,
   "metadata": {
    "scrolled": true
   },
   "outputs": [
    {
     "data": {
      "text/plain": [
       "\"0011111111010101010101010101010101010101010101010101010101010101\""
      ]
     },
     "execution_count": 39,
     "metadata": {},
     "output_type": "execute_result"
    }
   ],
   "source": [
    "bitstring(Float64(1/3))"
   ]
  },
  {
   "cell_type": "code",
   "execution_count": 38,
   "metadata": {},
   "outputs": [
    {
     "data": {
      "text/plain": [
       "\"0011111111010101010101000000000000000000000000000000000000000000\""
      ]
     },
     "execution_count": 38,
     "metadata": {},
     "output_type": "execute_result"
    }
   ],
   "source": [
    "a = Float16(1/3)\n",
    "bitstring(Float64(a))"
   ]
  },
  {
   "cell_type": "markdown",
   "metadata": {},
   "source": [
    "\n",
    "**Zadanie 2** Zbadać, jak zmienia się odległość między kolejnymi liczbami zminnoprzecinkowymi reprezentowanymi w komputerze za pomocą języka Julia. Narysować wykres używając Plots zależności odległości od wartości liczby dla zakresu od 1.0 do 1000000.0."
   ]
  },
  {
   "cell_type": "code",
   "execution_count": 9,
   "metadata": {},
   "outputs": [
    {
     "data": {
      "image/svg+xml": [
       "<?xml version=\"1.0\" encoding=\"utf-8\"?>\n",
       "<svg xmlns=\"http://www.w3.org/2000/svg\" xmlns:xlink=\"http://www.w3.org/1999/xlink\" width=\"700\" height=\"600\" viewBox=\"0 0 2800 2400\">\n",
       "<defs>\n",
       "  <clipPath id=\"clip8400\">\n",
       "    <rect x=\"0\" y=\"0\" width=\"2800\" height=\"2400\"/>\n",
       "  </clipPath>\n",
       "</defs>\n",
       "<path clip-path=\"url(#clip8400)\" d=\"\n",
       "M0 2400 L2800 2400 L2800 0 L0 0  Z\n",
       "  \" fill=\"#ffffff\" fill-rule=\"evenodd\" fill-opacity=\"1\"/>\n",
       "<defs>\n",
       "  <clipPath id=\"clip8401\">\n",
       "    <rect x=\"560\" y=\"0\" width=\"1961\" height=\"1961\"/>\n",
       "  </clipPath>\n",
       "</defs>\n",
       "<path clip-path=\"url(#clip8400)\" d=\"\n",
       "M408.45 2177.8 L2752.76 2177.8 L2752.76 47.2441 L408.45 47.2441  Z\n",
       "  \" fill=\"#ffffff\" fill-rule=\"evenodd\" fill-opacity=\"1\"/>\n",
       "<defs>\n",
       "  <clipPath id=\"clip8402\">\n",
       "    <rect x=\"408\" y=\"47\" width=\"2345\" height=\"2132\"/>\n",
       "  </clipPath>\n",
       "</defs>\n",
       "<polyline clip-path=\"url(#clip8402)\" style=\"stroke:#000000; stroke-width:2; stroke-opacity:0.1; fill:none\" points=\"\n",
       "  474.797,2177.8 474.797,47.2441 \n",
       "  \"/>\n",
       "<polyline clip-path=\"url(#clip8402)\" style=\"stroke:#000000; stroke-width:2; stroke-opacity:0.1; fill:none\" points=\"\n",
       "  1027.7,2177.8 1027.7,47.2441 \n",
       "  \"/>\n",
       "<polyline clip-path=\"url(#clip8402)\" style=\"stroke:#000000; stroke-width:2; stroke-opacity:0.1; fill:none\" points=\"\n",
       "  1580.6,2177.8 1580.6,47.2441 \n",
       "  \"/>\n",
       "<polyline clip-path=\"url(#clip8402)\" style=\"stroke:#000000; stroke-width:2; stroke-opacity:0.1; fill:none\" points=\"\n",
       "  2133.5,2177.8 2133.5,47.2441 \n",
       "  \"/>\n",
       "<polyline clip-path=\"url(#clip8402)\" style=\"stroke:#000000; stroke-width:2; stroke-opacity:0.1; fill:none\" points=\"\n",
       "  2686.41,2177.8 2686.41,47.2441 \n",
       "  \"/>\n",
       "<polyline clip-path=\"url(#clip8402)\" style=\"stroke:#000000; stroke-width:2; stroke-opacity:0.1; fill:none\" points=\"\n",
       "  408.45,2117.5 2752.76,2117.5 \n",
       "  \"/>\n",
       "<polyline clip-path=\"url(#clip8402)\" style=\"stroke:#000000; stroke-width:2; stroke-opacity:0.1; fill:none\" points=\"\n",
       "  408.45,1685.87 2752.76,1685.87 \n",
       "  \"/>\n",
       "<polyline clip-path=\"url(#clip8402)\" style=\"stroke:#000000; stroke-width:2; stroke-opacity:0.1; fill:none\" points=\"\n",
       "  408.45,1254.23 2752.76,1254.23 \n",
       "  \"/>\n",
       "<polyline clip-path=\"url(#clip8402)\" style=\"stroke:#000000; stroke-width:2; stroke-opacity:0.1; fill:none\" points=\"\n",
       "  408.45,822.596 2752.76,822.596 \n",
       "  \"/>\n",
       "<polyline clip-path=\"url(#clip8402)\" style=\"stroke:#000000; stroke-width:2; stroke-opacity:0.1; fill:none\" points=\"\n",
       "  408.45,390.96 2752.76,390.96 \n",
       "  \"/>\n",
       "<polyline clip-path=\"url(#clip8400)\" style=\"stroke:#000000; stroke-width:4; stroke-opacity:1; fill:none\" points=\"\n",
       "  408.45,2177.8 2752.76,2177.8 \n",
       "  \"/>\n",
       "<polyline clip-path=\"url(#clip8400)\" style=\"stroke:#000000; stroke-width:4; stroke-opacity:1; fill:none\" points=\"\n",
       "  408.45,2177.8 408.45,47.2441 \n",
       "  \"/>\n",
       "<polyline clip-path=\"url(#clip8400)\" style=\"stroke:#000000; stroke-width:4; stroke-opacity:1; fill:none\" points=\"\n",
       "  474.797,2177.8 474.797,2152.23 \n",
       "  \"/>\n",
       "<polyline clip-path=\"url(#clip8400)\" style=\"stroke:#000000; stroke-width:4; stroke-opacity:1; fill:none\" points=\"\n",
       "  1027.7,2177.8 1027.7,2152.23 \n",
       "  \"/>\n",
       "<polyline clip-path=\"url(#clip8400)\" style=\"stroke:#000000; stroke-width:4; stroke-opacity:1; fill:none\" points=\"\n",
       "  1580.6,2177.8 1580.6,2152.23 \n",
       "  \"/>\n",
       "<polyline clip-path=\"url(#clip8400)\" style=\"stroke:#000000; stroke-width:4; stroke-opacity:1; fill:none\" points=\"\n",
       "  2133.5,2177.8 2133.5,2152.23 \n",
       "  \"/>\n",
       "<polyline clip-path=\"url(#clip8400)\" style=\"stroke:#000000; stroke-width:4; stroke-opacity:1; fill:none\" points=\"\n",
       "  2686.41,2177.8 2686.41,2152.23 \n",
       "  \"/>\n",
       "<polyline clip-path=\"url(#clip8400)\" style=\"stroke:#000000; stroke-width:4; stroke-opacity:1; fill:none\" points=\"\n",
       "  408.45,2117.5 436.582,2117.5 \n",
       "  \"/>\n",
       "<polyline clip-path=\"url(#clip8400)\" style=\"stroke:#000000; stroke-width:4; stroke-opacity:1; fill:none\" points=\"\n",
       "  408.45,1685.87 436.582,1685.87 \n",
       "  \"/>\n",
       "<polyline clip-path=\"url(#clip8400)\" style=\"stroke:#000000; stroke-width:4; stroke-opacity:1; fill:none\" points=\"\n",
       "  408.45,1254.23 436.582,1254.23 \n",
       "  \"/>\n",
       "<polyline clip-path=\"url(#clip8400)\" style=\"stroke:#000000; stroke-width:4; stroke-opacity:1; fill:none\" points=\"\n",
       "  408.45,822.596 436.582,822.596 \n",
       "  \"/>\n",
       "<polyline clip-path=\"url(#clip8400)\" style=\"stroke:#000000; stroke-width:4; stroke-opacity:1; fill:none\" points=\"\n",
       "  408.45,390.96 436.582,390.96 \n",
       "  \"/>\n",
       "<g clip-path=\"url(#clip8400)\">\n",
       "<text style=\"fill:#000000; fill-opacity:1; font-family:Arial,Helvetica Neue,Helvetica,sans-serif; font-size:48px; text-anchor:middle;\" transform=\"rotate(0, 474.797, 2233.8)\" x=\"474.797\" y=\"2233.8\">0</text>\n",
       "</g>\n",
       "<g clip-path=\"url(#clip8400)\">\n",
       "<text style=\"fill:#000000; fill-opacity:1; font-family:Arial,Helvetica Neue,Helvetica,sans-serif; font-size:48px; text-anchor:start;\" transform=\"rotate(0, 942.557, 2254.81)\" x=\"942.557\" y=\"2254.81\">2.5×10</text>\n",
       "</g>\n",
       "<g clip-path=\"url(#clip8400)\">\n",
       "<text style=\"fill:#000000; fill-opacity:1; font-family:Arial,Helvetica Neue,Helvetica,sans-serif; font-size:38px; text-anchor:start;\" transform=\"rotate(0, 1091.1, 2227.39)\" x=\"1091.1\" y=\"2227.39\">5</text>\n",
       "</g>\n",
       "<g clip-path=\"url(#clip8400)\">\n",
       "<text style=\"fill:#000000; fill-opacity:1; font-family:Arial,Helvetica Neue,Helvetica,sans-serif; font-size:48px; text-anchor:start;\" transform=\"rotate(0, 1495.46, 2254.81)\" x=\"1495.46\" y=\"2254.81\">5.0×10</text>\n",
       "</g>\n",
       "<g clip-path=\"url(#clip8400)\">\n",
       "<text style=\"fill:#000000; fill-opacity:1; font-family:Arial,Helvetica Neue,Helvetica,sans-serif; font-size:38px; text-anchor:start;\" transform=\"rotate(0, 1644, 2227.39)\" x=\"1644\" y=\"2227.39\">5</text>\n",
       "</g>\n",
       "<g clip-path=\"url(#clip8400)\">\n",
       "<text style=\"fill:#000000; fill-opacity:1; font-family:Arial,Helvetica Neue,Helvetica,sans-serif; font-size:48px; text-anchor:start;\" transform=\"rotate(0, 2048.36, 2254.81)\" x=\"2048.36\" y=\"2254.81\">7.5×10</text>\n",
       "</g>\n",
       "<g clip-path=\"url(#clip8400)\">\n",
       "<text style=\"fill:#000000; fill-opacity:1; font-family:Arial,Helvetica Neue,Helvetica,sans-serif; font-size:38px; text-anchor:start;\" transform=\"rotate(0, 2196.9, 2227.39)\" x=\"2196.9\" y=\"2227.39\">5</text>\n",
       "</g>\n",
       "<g clip-path=\"url(#clip8400)\">\n",
       "<text style=\"fill:#000000; fill-opacity:1; font-family:Arial,Helvetica Neue,Helvetica,sans-serif; font-size:48px; text-anchor:start;\" transform=\"rotate(0, 2601.27, 2254.81)\" x=\"2601.27\" y=\"2254.81\">1.0×10</text>\n",
       "</g>\n",
       "<g clip-path=\"url(#clip8400)\">\n",
       "<text style=\"fill:#000000; fill-opacity:1; font-family:Arial,Helvetica Neue,Helvetica,sans-serif; font-size:38px; text-anchor:start;\" transform=\"rotate(0, 2749.81, 2227.39)\" x=\"2749.81\" y=\"2227.39\">6</text>\n",
       "</g>\n",
       "<g clip-path=\"url(#clip8400)\">\n",
       "<text style=\"fill:#000000; fill-opacity:1; font-family:Arial,Helvetica Neue,Helvetica,sans-serif; font-size:48px; text-anchor:end;\" transform=\"rotate(0, 380.45, 2135)\" x=\"380.45\" y=\"2135\">0</text>\n",
       "</g>\n",
       "<g clip-path=\"url(#clip8400)\">\n",
       "<text style=\"fill:#000000; fill-opacity:1; font-family:Arial,Helvetica Neue,Helvetica,sans-serif; font-size:48px; text-anchor:start;\" transform=\"rotate(0, 165.582, 1709.6)\" x=\"165.582\" y=\"1709.6\">2.5×10</text>\n",
       "</g>\n",
       "<g clip-path=\"url(#clip8400)\">\n",
       "<text style=\"fill:#000000; fill-opacity:1; font-family:Arial,Helvetica Neue,Helvetica,sans-serif; font-size:38px; text-anchor:start;\" transform=\"rotate(0, 314.122, 1682.18)\" x=\"314.122\" y=\"1682.18\">-</text>\n",
       "</g>\n",
       "<g clip-path=\"url(#clip8400)\">\n",
       "<text style=\"fill:#000000; fill-opacity:1; font-family:Arial,Helvetica Neue,Helvetica,sans-serif; font-size:38px; text-anchor:start;\" transform=\"rotate(0, 336.962, 1682.18)\" x=\"336.962\" y=\"1682.18\">11</text>\n",
       "</g>\n",
       "<g clip-path=\"url(#clip8400)\">\n",
       "<text style=\"fill:#000000; fill-opacity:1; font-family:Arial,Helvetica Neue,Helvetica,sans-serif; font-size:48px; text-anchor:start;\" transform=\"rotate(0, 165.582, 1277.96)\" x=\"165.582\" y=\"1277.96\">5.0×10</text>\n",
       "</g>\n",
       "<g clip-path=\"url(#clip8400)\">\n",
       "<text style=\"fill:#000000; fill-opacity:1; font-family:Arial,Helvetica Neue,Helvetica,sans-serif; font-size:38px; text-anchor:start;\" transform=\"rotate(0, 314.122, 1250.55)\" x=\"314.122\" y=\"1250.55\">-</text>\n",
       "</g>\n",
       "<g clip-path=\"url(#clip8400)\">\n",
       "<text style=\"fill:#000000; fill-opacity:1; font-family:Arial,Helvetica Neue,Helvetica,sans-serif; font-size:38px; text-anchor:start;\" transform=\"rotate(0, 336.962, 1250.55)\" x=\"336.962\" y=\"1250.55\">11</text>\n",
       "</g>\n",
       "<g clip-path=\"url(#clip8400)\">\n",
       "<text style=\"fill:#000000; fill-opacity:1; font-family:Arial,Helvetica Neue,Helvetica,sans-serif; font-size:48px; text-anchor:start;\" transform=\"rotate(0, 165.582, 846.324)\" x=\"165.582\" y=\"846.324\">7.5×10</text>\n",
       "</g>\n",
       "<g clip-path=\"url(#clip8400)\">\n",
       "<text style=\"fill:#000000; fill-opacity:1; font-family:Arial,Helvetica Neue,Helvetica,sans-serif; font-size:38px; text-anchor:start;\" transform=\"rotate(0, 314.122, 818.913)\" x=\"314.122\" y=\"818.913\">-</text>\n",
       "</g>\n",
       "<g clip-path=\"url(#clip8400)\">\n",
       "<text style=\"fill:#000000; fill-opacity:1; font-family:Arial,Helvetica Neue,Helvetica,sans-serif; font-size:38px; text-anchor:start;\" transform=\"rotate(0, 336.962, 818.913)\" x=\"336.962\" y=\"818.913\">11</text>\n",
       "</g>\n",
       "<g clip-path=\"url(#clip8400)\">\n",
       "<text style=\"fill:#000000; fill-opacity:1; font-family:Arial,Helvetica Neue,Helvetica,sans-serif; font-size:48px; text-anchor:start;\" transform=\"rotate(0, 165.582, 414.688)\" x=\"165.582\" y=\"414.688\">1.0×10</text>\n",
       "</g>\n",
       "<g clip-path=\"url(#clip8400)\">\n",
       "<text style=\"fill:#000000; fill-opacity:1; font-family:Arial,Helvetica Neue,Helvetica,sans-serif; font-size:38px; text-anchor:start;\" transform=\"rotate(0, 314.122, 387.278)\" x=\"314.122\" y=\"387.278\">-</text>\n",
       "</g>\n",
       "<g clip-path=\"url(#clip8400)\">\n",
       "<text style=\"fill:#000000; fill-opacity:1; font-family:Arial,Helvetica Neue,Helvetica,sans-serif; font-size:38px; text-anchor:start;\" transform=\"rotate(0, 336.962, 387.278)\" x=\"336.962\" y=\"387.278\">10</text>\n",
       "</g>\n",
       "<g clip-path=\"url(#clip8400)\">\n",
       "<text style=\"fill:#000000; fill-opacity:1; font-family:Arial,Helvetica Neue,Helvetica,sans-serif; font-size:66px; text-anchor:middle;\" transform=\"rotate(0, 1580.6, 2315.66)\" x=\"1580.6\" y=\"2315.66\">Wartosc liczby</text>\n",
       "</g>\n",
       "<g clip-path=\"url(#clip8400)\">\n",
       "<text style=\"fill:#000000; fill-opacity:1; font-family:Arial,Helvetica Neue,Helvetica,sans-serif; font-size:66px; text-anchor:middle;\" transform=\"rotate(-90, 52.2305, 1112.52)\" x=\"52.2305\" y=\"1112.52\">Odleglosc miedzy kolejnymi liczbami zmiennoprzecinkowymi</text>\n",
       "</g>\n",
       "<polyline clip-path=\"url(#clip8402)\" style=\"stroke:#009af9; stroke-width:4; stroke-opacity:1; fill:none\" points=\"\n",
       "  474.799,2117.5 480.198,2109.65 485.598,2101.8 490.997,2101.8 496.397,2086.1 502.638,2086.1 508.879,2086.1 515.119,2054.69 521.36,2054.69 527.601,2054.69 \n",
       "  533.842,2054.69 536.962,2054.69 540.083,2054.69 543.203,2054.69 546.323,2054.69 547.884,1991.88 549.444,1991.88 551.004,1991.88 552.564,1991.88 555.685,1991.88 \n",
       "  558.805,1991.88 565.046,1991.88 571.287,1991.88 583.768,1991.88 596.25,1991.88 602.491,1991.88 608.732,1991.88 611.852,1991.88 614.973,1991.88 616.533,1991.88 \n",
       "  618.093,1991.88 619.653,1991.88 621.213,1866.26 622.774,1866.26 624.334,1866.26 625.894,1866.26 627.454,1866.26 630.575,1866.26 633.695,1866.26 639.936,1866.26 \n",
       "  646.177,1866.26 671.14,1866.26 696.103,1866.26 711.105,1866.26 726.107,1866.26 733.608,1866.26 741.109,1866.26 748.61,1866.26 756.111,1866.26 757.986,1866.26 \n",
       "  759.861,1866.26 760.799,1866.26 761.736,1866.26 762.674,1866.26 763.612,1866.26 764.549,1866.26 765.487,1615.01 766.425,1615.01 767.362,1615.01 769.237,1615.01 \n",
       "  771.113,1615.01 774.863,1615.01 778.614,1615.01 782.364,1615.01 786.115,1615.01 801.116,1615.01 816.118,1615.01 841.486,1615.01 866.854,1615.01 892.222,1615.01 \n",
       "  917.59,1615.01 945.146,1615.01 972.703,1615.01 1000.26,1615.01 1027.82,1615.01 1034.17,1615.01 1040.52,1615.01 1043.69,1615.01 1046.87,1615.01 1048.46,1615.01 \n",
       "  1050.05,1615.01 1050.84,1615.01 1051.63,1615.01 1052.43,1615.01 1053.22,1615.01 1054.01,1615.01 1054.81,1112.52 1055.6,1112.52 1056.4,1112.52 1057.98,1112.52 \n",
       "  1059.57,1112.52 1062.75,1112.52 1065.92,1112.52 1072.27,1112.52 1078.63,1112.52 1091.33,1112.52 1104.03,1112.52 1116.73,1112.52 1129.43,1112.52 1238.38,1112.52 \n",
       "  1364.61,1112.52 1420.69,1112.52 1476.78,1112.52 1525.96,1112.52 1575.15,1112.52 1588.55,1112.52 1601.96,1112.52 1608.66,1112.52 1615.36,1112.52 1618.71,1112.52 \n",
       "  1622.07,1112.52 1625.42,1112.52 1628.77,1112.52 1630.44,1112.52 1632.12,1112.52 1632.96,1112.52 1633.8,1112.52 1634.63,107.543 1635.47,107.543 1636.31,107.543 \n",
       "  1637.15,107.543 1637.98,107.543 1638.82,107.543 1640.5,107.543 1642.17,107.543 1648.88,107.543 1655.58,107.543 1668.99,107.543 1682.39,107.543 1709.36,107.543 \n",
       "  1736.33,107.543 1763.3,107.543 1790.27,107.543 1909.55,107.543 2023.04,107.543 2141.05,107.543 2240.38,107.543 2361.66,107.543 2475.66,107.543 2658.3,107.543 \n",
       "  2686.41,107.543 \n",
       "  \"/>\n",
       "<path clip-path=\"url(#clip8400)\" d=\"\n",
       "M2337.93 275.724 L2668.76 275.724 L2668.76 154.764 L2337.93 154.764  Z\n",
       "  \" fill=\"#ffffff\" fill-rule=\"evenodd\" fill-opacity=\"1\"/>\n",
       "<polyline clip-path=\"url(#clip8400)\" style=\"stroke:#000000; stroke-width:4; stroke-opacity:1; fill:none\" points=\"\n",
       "  2337.93,275.724 2668.76,275.724 2668.76,154.764 2337.93,154.764 2337.93,275.724 \n",
       "  \"/>\n",
       "<polyline clip-path=\"url(#clip8400)\" style=\"stroke:#009af9; stroke-width:4; stroke-opacity:1; fill:none\" points=\"\n",
       "  2365.93,215.244 2533.93,215.244 \n",
       "  \"/>\n",
       "<g clip-path=\"url(#clip8400)\">\n",
       "<text style=\"fill:#000000; fill-opacity:1; font-family:Arial,Helvetica Neue,Helvetica,sans-serif; font-size:48px; text-anchor:start;\" transform=\"rotate(0, 2561.93, 232.744)\" x=\"2561.93\" y=\"232.744\">y1</text>\n",
       "</g>\n",
       "</svg>\n"
      ]
     },
     "execution_count": 9,
     "metadata": {},
     "output_type": "execute_result"
    }
   ],
   "source": [
    "using Plots\n",
    "y(x) = nextfloat(x)-x\n",
    "plot(y,1.0,1000000.0, xlabel=\"Wartosc liczby\", ylabel=\"Odleglosc miedzy kolejnymi liczbami zmiennoprzecinkowymi\")\n",
    "plot!(size=(700,600))"
   ]
  },
  {
   "cell_type": "markdown",
   "metadata": {},
   "source": [
    "Można zauważyć, że wraz ze wzrostem wartości liczby rośnie odległość między kolejnymi liczbami zmiennoprzecinkowymi. Są to wzrosty skokowe, a odległości za każdym razem ulegają podwojeniu. Przyczyną tego jest fakt, że kiedy cecha zwiększa się o jeden, to w systemie dwójkowym mantysa jest mnożona przez liczbę dwukrotnie większą niż przed jej zwiększeniem."
   ]
  },
  {
   "cell_type": "markdown",
   "metadata": {},
   "source": [
    "\n",
    "\n",
    "**Zadanie 3** Jedną z bibliotek numerycznych, jaką będziemy używać na zajęciach jest GSL (język C). Korzystając ze wsparcia dla wyświetlania reprezentacji liczb zmiennoprzecinkowych zobaczyć jak zmienia się cecha i mantysa dla coraz mniejszych liczb. Zaobserwować, kiedy matysa przestaje być znormalizowana i dlaczego?"
   ]
  },
  {
   "cell_type": "code",
   "execution_count": 34,
   "metadata": {},
   "outputs": [
    {
     "name": "stdout",
     "output_type": "stream",
     "text": [
      " 1.01000111101011100001010*2^-7"
     ]
    }
   ],
   "source": [
    "using GSL\n",
    "\n",
    "mutable struct float32_pointer\n",
    "    x::Float32\n",
    "end\n",
    "\n",
    "a = float32_pointer(1.0/100)\n",
    "GSL.ieee_printf_float(pointer_from_objref(a))"
   ]
  },
  {
   "cell_type": "code",
   "execution_count": 125,
   "metadata": {},
   "outputs": [
    {
     "name": "stdout",
     "output_type": "stream",
     "text": [
      " 1.01000100100001001100000*2^-100"
     ]
    }
   ],
   "source": [
    "a = float32_pointer((1/10)^30)\n",
    "GSL.ieee_printf_float(pointer_from_objref(a))"
   ]
  },
  {
   "cell_type": "code",
   "execution_count": 123,
   "metadata": {},
   "outputs": [
    {
     "name": "stdout",
     "output_type": "stream",
     "text": [
      " 1.00000000000000000000000*2^-100"
     ]
    }
   ],
   "source": [
    "a = float32_pointer((1/2)^100)\n",
    "GSL.ieee_printf_float(pointer_from_objref(a))"
   ]
  },
  {
   "cell_type": "code",
   "execution_count": 122,
   "metadata": {},
   "outputs": [
    {
     "name": "stdout",
     "output_type": "stream",
     "text": [
      " 0.10000000000000000000000*2^-126"
     ]
    }
   ],
   "source": [
    "a = float32_pointer((1/2)^127)\n",
    "GSL.ieee_printf_float(pointer_from_objref(a))"
   ]
  },
  {
   "cell_type": "markdown",
   "metadata": {},
   "source": [
    "Dla reprezentacji liczb zmiennoprzecinkowych na 32 bitach manstysa przestaje być znormalizowana, kiedy cecha osiągnie wartość -126, czyli swoją wartość minimalną (jest reprezentowana na 8 bitach). Żeby móc przedstawić mniejsze wartości, denormalizowana jest mantysa."
   ]
  },
  {
   "cell_type": "code",
   "execution_count": 126,
   "metadata": {},
   "outputs": [
    {
     "name": "stdout",
     "output_type": "stream",
     "text": [
      " 1.0000000000000000000000000000000000000000000000000000*2^-127"
     ]
    }
   ],
   "source": [
    "mutable struct float64_pointer\n",
    "    x::Float64\n",
    "end\n",
    "\n",
    "b = float64_pointer((1/2)^127)\n",
    "GSL.ieee_printf_double(pointer_from_objref(b))"
   ]
  },
  {
   "cell_type": "markdown",
   "metadata": {},
   "source": [
    "Dla reprezentacji liczb zmiennoprzecinkowych na 64 bitach liczba, która przy reprezenatcji 32 bitowej miała zdenormalizowaną mantysę, ma mantysę znormalizowaną. Cecha dla tej reprezentacji reprezentowana jest na 11 bitach, więc jej wartość minimalna to -1022."
   ]
  },
  {
   "cell_type": "code",
   "execution_count": 127,
   "metadata": {},
   "outputs": [
    {
     "name": "stdout",
     "output_type": "stream",
     "text": [
      " 0.1000000000000000000000000000000000000000000000000000*2^-1022"
     ]
    }
   ],
   "source": [
    "a = float64_pointer((1/2)^1023)\n",
    "GSL.ieee_printf_double(pointer_from_objref(a))"
   ]
  },
  {
   "cell_type": "markdown",
   "metadata": {},
   "source": [
    "Kiedy cecha przekroczy minimalną wartość -1022, mantysa staje się zdenormalizowana, aby można było przedstawić mniejsze wartości."
   ]
  },
  {
   "cell_type": "markdown",
   "metadata": {},
   "source": [
    "**Zadanie 4** Na przykładzie wybranego algorytmu niestabilnego numerycznie:\n",
    "\n",
    "1. Pokazać, że działa źle.\n",
    "2. Pokazać które konkretnie działania powodują zwiększenie błędu (np. dzielenie przez małą liczbę, cancellation).\n",
    "3. Zademonstować wersję stabilną."
   ]
  },
  {
   "cell_type": "markdown",
   "metadata": {},
   "source": [
    "Rozważmy problem wyliczania kolejnych wyrażeń ciągu $y_{n}$ dla liczb rzeczywistych, gdzie\n",
    "$$y_{n} = \\int_{0}^{1} \\frac{x^n}{x+9} dx $$\n",
    "Dla 0 < x < 1 ciąg $x^n$ zmierza do 0 dla $n \\to\\infty$. Można więc zauważyć, że \n",
    "$$y_0>y_1>y_2>...>y_n>y_{n+1}>...>0$$\n",
    "oraz że $y_n \\to 0$ dla $n \\to \\infty$.\n",
    "Pierwszy algorytm tworzymy w następujący sposób:\n",
    "$$ y_n + 9y_{n-1} = \\int_{0}^{1} \\frac{x^n + 9x^{n-1}}{x+9} dx = \\int_{0}^{1} x^{n-1} dx = \\frac{1}{n}\\ dla\\ n=1,2,3,...$$\n",
    "Widać więc, że algorytm będzie miał postać:\n",
    "$$ y_n = \\frac{1}{n} - 9y_{n-1}$$\n",
    "$y_0$ możemy wyliczyć dokładnie: \n",
    "$$y_0 = \\int_{0}^{1} \\frac{1}{x+9} dx= ln(10) - ln(9)$$\n",
    "Przeanalizujemy teraz kilka pierwszych wyrazów ciągu:"
   ]
  },
  {
   "cell_type": "code",
   "execution_count": 146,
   "metadata": {},
   "outputs": [
    {
     "data": {
      "text/plain": [
       "0.10536051565782635"
      ]
     },
     "execution_count": 146,
     "metadata": {},
     "output_type": "execute_result"
    }
   ],
   "source": [
    "y_0 = log(10/9)"
   ]
  },
  {
   "cell_type": "code",
   "execution_count": 139,
   "metadata": {},
   "outputs": [
    {
     "data": {
      "text/plain": [
       "0.06528025162834195"
      ]
     },
     "execution_count": 139,
     "metadata": {},
     "output_type": "execute_result"
    }
   ],
   "source": [
    "y_1 = 1 - 9*y_0"
   ]
  },
  {
   "cell_type": "code",
   "execution_count": 140,
   "metadata": {
    "scrolled": true
   },
   "outputs": [
    {
     "data": {
      "text/plain": [
       "0.04303823860160638"
      ]
     },
     "execution_count": 140,
     "metadata": {},
     "output_type": "execute_result"
    }
   ],
   "source": [
    "y_2 = 1/2 - 9*y_1"
   ]
  },
  {
   "cell_type": "code",
   "execution_count": 141,
   "metadata": {},
   "outputs": [
    {
     "data": {
      "text/plain": [
       "0.03206566312208864"
      ]
     },
     "execution_count": 141,
     "metadata": {},
     "output_type": "execute_result"
    }
   ],
   "source": [
    "y_3 = 1/3 - 9*y_2"
   ]
  },
  {
   "cell_type": "code",
   "execution_count": 142,
   "metadata": {},
   "outputs": [
    {
     "data": {
      "text/plain": [
       "0.025540358145379527"
      ]
     },
     "execution_count": 142,
     "metadata": {},
     "output_type": "execute_result"
    }
   ],
   "source": [
    "y_4 = 1/4 - 9*y_3"
   ]
  },
  {
   "cell_type": "code",
   "execution_count": 143,
   "metadata": {},
   "outputs": [
    {
     "data": {
      "text/plain": [
       "0.021217492982343322"
      ]
     },
     "execution_count": 143,
     "metadata": {},
     "output_type": "execute_result"
    }
   ],
   "source": [
    "y_5 = 1/5 - 9*y_4"
   ]
  },
  {
   "cell_type": "code",
   "execution_count": 144,
   "metadata": {},
   "outputs": [
    {
     "data": {
      "text/plain": [
       "0.0181442157902634"
      ]
     },
     "execution_count": 144,
     "metadata": {},
     "output_type": "execute_result"
    }
   ],
   "source": [
    "y_6 = 1/6 - 9*y_5"
   ]
  },
  {
   "cell_type": "code",
   "execution_count": 147,
   "metadata": {},
   "outputs": [
    {
     "data": {
      "text/plain": [
       "-0.020440799255227765"
      ]
     },
     "execution_count": 147,
     "metadata": {},
     "output_type": "execute_result"
    }
   ],
   "source": [
    "y_7 = 1/7 - 9*y_6"
   ]
  },
  {
   "cell_type": "code",
   "execution_count": 148,
   "metadata": {},
   "outputs": [
    {
     "data": {
      "text/plain": [
       "0.3089671932970499"
      ]
     },
     "execution_count": 148,
     "metadata": {},
     "output_type": "execute_result"
    }
   ],
   "source": [
    "y_8 = 1/8 - 9*y_7"
   ]
  },
  {
   "cell_type": "code",
   "execution_count": 149,
   "metadata": {},
   "outputs": [
    {
     "data": {
      "text/plain": [
       "-2.669593628562338"
      ]
     },
     "execution_count": 149,
     "metadata": {},
     "output_type": "execute_result"
    }
   ],
   "source": [
    "y_9 = 1/9 - 9*y_8"
   ]
  },
  {
   "cell_type": "markdown",
   "metadata": {},
   "source": [
    "Algorytm ten jest niestabilny: dla $y_7$ oraz $y_9$ wynik staje się ujemny, co nie powinno się wydarzyć nigdy. Poza tym $y_8$ jest większe od $y_7$, co również przeczy wcześniej poczynionym obserwacją.\n",
    "Działaniem, które powoduje tak duży błąd, jest mnożenie przez 9 wyniku poprzedniego działania, co sprawia że dla danej iteracji błąd staje się 9-krotnie większy.\n",
    "Algorytm stabilny dla tego problemu będzie miał postać:\n",
    "$$ y_{n-1} = \\frac{1}{n} - \\frac{y_n}{9}$$\n",
    "Teraz w każdej iteracji błąd z poprzednich działań powinien zmniejszać się dziewięciokrotnie.\n",
    "Jeśli $y_{10} \\approx \\frac{9}{1000}$:"
   ]
  },
  {
   "cell_type": "code",
   "execution_count": 170,
   "metadata": {},
   "outputs": [
    {
     "data": {
      "text/plain": [
       "0.010111111111111112"
      ]
     },
     "execution_count": 170,
     "metadata": {},
     "output_type": "execute_result"
    }
   ],
   "source": [
    "y_9 = 1/9*(1/10-9/1000)"
   ]
  },
  {
   "cell_type": "code",
   "execution_count": 171,
   "metadata": {},
   "outputs": [
    {
     "data": {
      "text/plain": [
       "0.01122222222222222"
      ]
     },
     "execution_count": 171,
     "metadata": {},
     "output_type": "execute_result"
    }
   ],
   "source": [
    "y_8 = 1/9*(1/9 - y_9)"
   ]
  },
  {
   "cell_type": "code",
   "execution_count": 173,
   "metadata": {},
   "outputs": [
    {
     "data": {
      "text/plain": [
       "0.012641975308641975"
      ]
     },
     "execution_count": 173,
     "metadata": {},
     "output_type": "execute_result"
    }
   ],
   "source": [
    "y_7 = 1/9*(1/8 - y_8)"
   ]
  },
  {
   "cell_type": "code",
   "execution_count": 174,
   "metadata": {},
   "outputs": [
    {
     "data": {
      "text/plain": [
       "0.01446835194983343"
      ]
     },
     "execution_count": 174,
     "metadata": {},
     "output_type": "execute_result"
    }
   ],
   "source": [
    "y_6 = 1/9*(1/7 - y_7)"
   ]
  },
  {
   "cell_type": "code",
   "execution_count": 177,
   "metadata": {},
   "outputs": [
    {
     "data": {
      "text/plain": [
       "0.016910923857425913"
      ]
     },
     "execution_count": 177,
     "metadata": {},
     "output_type": "execute_result"
    }
   ],
   "source": [
    "y_5 = 1/9*(1/6 - y_6)"
   ]
  },
  {
   "cell_type": "code",
   "execution_count": 178,
   "metadata": {},
   "outputs": [
    {
     "data": {
      "text/plain": [
       "0.020343230682508234"
      ]
     },
     "execution_count": 178,
     "metadata": {},
     "output_type": "execute_result"
    }
   ],
   "source": [
    "y_4 = 1/9*(1/5 - y_5)"
   ]
  },
  {
   "cell_type": "code",
   "execution_count": 179,
   "metadata": {},
   "outputs": [
    {
     "data": {
      "text/plain": [
       "0.025517418813054638"
      ]
     },
     "execution_count": 179,
     "metadata": {},
     "output_type": "execute_result"
    }
   ],
   "source": [
    "y_3 = 1/9*(1/4 - y_4)"
   ]
  },
  {
   "cell_type": "code",
   "execution_count": 186,
   "metadata": {},
   "outputs": [
    {
     "data": {
      "text/plain": [
       "0.034201768280030964"
      ]
     },
     "execution_count": 186,
     "metadata": {},
     "output_type": "execute_result"
    }
   ],
   "source": [
    "y_2 = 1/9*(1/3 - y_3)"
   ]
  },
  {
   "cell_type": "code",
   "execution_count": 187,
   "metadata": {},
   "outputs": [
    {
     "data": {
      "text/plain": [
       "0.05175535907999656"
      ]
     },
     "execution_count": 187,
     "metadata": {},
     "output_type": "execute_result"
    }
   ],
   "source": [
    "y_1 = 1/9*(1/2 - y_2)"
   ]
  },
  {
   "cell_type": "code",
   "execution_count": 188,
   "metadata": {},
   "outputs": [
    {
     "data": {
      "text/plain": [
       "0.10536051565777815"
      ]
     },
     "execution_count": 188,
     "metadata": {},
     "output_type": "execute_result"
    }
   ],
   "source": [
    "y_0 = 1/9*(1 - y_1)"
   ]
  },
  {
   "cell_type": "markdown",
   "metadata": {},
   "source": [
    "Jak widać, $y_0$ zgadza się z wartością analityczną z dokładnością do 12 miejsc po przecinku."
   ]
  }
 ],
 "metadata": {
  "kernelspec": {
   "display_name": "Julia 1.0.5",
   "language": "julia",
   "name": "julia-1.0"
  },
  "language_info": {
   "file_extension": ".jl",
   "mimetype": "application/julia",
   "name": "julia",
   "version": "1.0.5"
  }
 },
 "nbformat": 4,
 "nbformat_minor": 2
}
